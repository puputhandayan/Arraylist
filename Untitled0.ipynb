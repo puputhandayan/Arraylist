{
  "nbformat": 4,
  "nbformat_minor": 0,
  "metadata": {
    "colab": {
      "provenance": [],
      "authorship_tag": "ABX9TyOp0CAA9PL+syWssuNoO0tC",
      "include_colab_link": true
    },
    "kernelspec": {
      "name": "python3",
      "display_name": "Python 3"
    },
    "language_info": {
      "name": "python"
    }
  },
  "cells": [
    {
      "cell_type": "markdown",
      "metadata": {
        "id": "view-in-github",
        "colab_type": "text"
      },
      "source": [
        "<a href=\"https://colab.research.google.com/github/puputhandayan/Arraylist/blob/main/Untitled0.ipynb\" target=\"_parent\"><img src=\"https://colab.research.google.com/assets/colab-badge.svg\" alt=\"Open In Colab\"/></a>"
      ]
    },
    {
      "cell_type": "code",
      "execution_count": 4,
      "metadata": {
        "id": "dKmlYK1Q0w_8"
      },
      "outputs": [],
      "source": [
        "#Menggunakan fungsi bawaan max()\n",
        "\n",
        "def find_max_builtin(arr):\n",
        "    return max(arr[5, 8, 2, 17, 9, 4])\n",
        "\n",
        "#Notasi Big O untuk Solusi 1:\n",
        "#O(n), di mana n adalah jumlah elemen dalam daftar, karena Python tetap harus melakukan iterasi di balik layar untuk menemukan nilai maksimum\n"
      ]
    },
    {
      "cell_type": "code",
      "source": [
        "#Menggunakan iterasi manual (membuat loop untuk membandingkan setiap elemen dalam array dan menyimpan nilai terbesar.)\n",
        "\n",
        "def find_max_manual(arr):\n",
        "    max_num = arr [5, 8, 2, 17, 9, 4]\n",
        "    for num in arr:\n",
        "        if num > max_num:\n",
        "            max_num = num\n",
        "    return max_num\n",
        "\n",
        "#Notasi Big O untuk Solusi 2:\n",
        "#O(n), karena kita harus memeriksa setiap elemen dalam daftar satu per satu, sama seperti max().\n"
      ],
      "metadata": {
        "id": "rB3zq8Ox09RA"
      },
      "execution_count": 3,
      "outputs": []
    },
    {
      "cell_type": "code",
      "source": [
        "a = int (input(\"a: \"))\n",
        "b = int (input(\"b: \"))\n",
        "c = int (input(\"c: \"))\n",
        "\n",
        "print(a,b,c )"
      ],
      "metadata": {
        "colab": {
          "base_uri": "https://localhost:8080/"
        },
        "id": "g6PzCndc-lNK",
        "outputId": "23e740cc-7ed7-4456-941b-30e46ea346a6"
      },
      "execution_count": 5,
      "outputs": [
        {
          "output_type": "stream",
          "name": "stdout",
          "text": [
            "a: 12\n",
            "b: 2\n",
            "c: 15\n",
            "12 2 15\n"
          ]
        }
      ]
    },
    {
      "cell_type": "markdown",
      "source": [],
      "metadata": {
        "id": "msc2kKhyCYs2"
      }
    },
    {
      "cell_type": "code",
      "source": [],
      "metadata": {
        "id": "hOJHlHr0CZok"
      },
      "execution_count": null,
      "outputs": []
    },
    {
      "cell_type": "markdown",
      "source": [],
      "metadata": {
        "id": "pxMbKBX-CaLN"
      }
    },
    {
      "cell_type": "code",
      "source": [],
      "metadata": {
        "id": "D6ejTL3DCa2J"
      },
      "execution_count": null,
      "outputs": []
    }
  ]
}